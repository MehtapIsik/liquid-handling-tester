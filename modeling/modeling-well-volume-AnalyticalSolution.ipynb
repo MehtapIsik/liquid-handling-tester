{
 "cells": [
  {
   "cell_type": "markdown",
   "metadata": {},
   "source": [
    "##Modeling Volume of Truncated Cone Shaped Well \n",
    "\n",
    "This notebook uses analytical solution of height of a truncated cone for a given volume.\n",
    "\n",
    "Calculations are based on \n",
    "Wang, Z. X. An exact mathematical expression for describing\n",
    "competitive binding of two different ligands to a protein molecule. FEBS\n",
    "Lett. 1995, 360, 111−114. [doi:10.1016/0014-5793(95)00062-E](http://www.sciencedirect.com/science/article/pii/001457939500062E) "
   ]
  },
  {
   "cell_type": "code",
   "execution_count": 1,
   "metadata": {
    "collapsed": false
   },
   "outputs": [
    {
     "name": "stdout",
     "output_type": "stream",
     "text": [
      "Populating the interactive namespace from numpy and matplotlib\n"
     ]
    }
   ],
   "source": [
    "import matplotlib.pyplot as plt\n",
    "import numpy as np\n",
    "import seaborn as sns\n",
    "from IPython.display import display, Math, Latex \n",
    "%pylab inline"
   ]
  },
  {
   "cell_type": "markdown",
   "metadata": {},
   "source": [
    "l: hight of truncated cone\n",
    "D: diameter of the small bottom surface of truncated cone well (D=2r)\n",
    "theta: angle between well side wall to the normal of the bottom\n",
    "V: volume"
   ]
  },
  {
   "cell_type": "markdown",
   "metadata": {},
   "source": [
    "Volume of truncated cone:\n",
    "\n",
    "$ V = l^3(\\frac{\\pi}{3}\\tan\\theta) + l^2(\\frac{\\pi}{2}D\\tan\\theta)+ l(\\frac{\\pi}{4}D^2) $\n",
    "\n",
    "$ 0 = l^3(\\frac{\\pi}{3}\\tan\\theta) + l^2(\\frac{\\pi}{2}D\\tan\\theta)+ l(\\frac{\\pi}{4}D^2) - V$\n",
    "\n",
    "Devide all parts by $(\\frac{\\pi}{3}\\tan\\theta)$ \n",
    "\n",
    "$ 0 = l^3 + l^2(\\frac{3}{2}D)+ l(\\frac{3}{4}\\frac{D^2}{\\tan\\theta}) + (\\frac{- 3V}{\\pi\\tan\\theta})$\n",
    "\n",
    "\n",
    "\n",
    "$ 0 = l^3 + al^2 + bl +c  $\n",
    "\n",
    "$ a = \\frac{3}{2}D $\n",
    "\n",
    "$ b = \\frac{3}{4}\\frac{D^2}{\\tan\\theta} $\n",
    "\n",
    "$ c = \\frac{- 3V}{\\pi\\tan\\theta}$"
   ]
  },
  {
   "cell_type": "markdown",
   "metadata": {},
   "source": [
    "Substituting $ l = u - \\frac{a}{3} $, gives us:\n",
    "\n",
    "$ u^3 -qu - r =0 $\n",
    "\n",
    "$ q=\\frac{a^2}{3}-b $\n",
    "\n",
    "$ r = \\frac{-2}{27}a^3+\\frac{1}{3}ab-c$\n",
    "\n",
    "Discriminant:\n",
    "$ \\Delta = \\frac{r^2}{4} - \\frac{q^3}{27}$ \n",
    "\n",
    "Since $ \\Delta < 0$, there are 3 real roots. \n",
    "Only physically meaningful root is $ u = \\frac{2}{3}\\sqrt{a^2-3b}\\cos(\\frac{\\alpha}{3})$, where $\\alpha=\\arccos{\\frac{-2a^3+9ab-27c}{2\\sqrt{(a^2-3b)^3}}}$\n"
   ]
  },
  {
   "cell_type": "markdown",
   "metadata": {},
   "source": [
    "Then we can calculate equilibrium concentrations of species.\n",
    "\n",
    "$$ l= u -\\frac{a}{3} = -\\frac{a}{3} + \\frac{2}{3}\\sqrt{a^2-3b}\\cos(\\frac{\\alpha}{3}) $$\n"
   ]
  },
  {
   "cell_type": "code",
   "execution_count": 26,
   "metadata": {
    "collapsed": false
   },
   "outputs": [],
   "source": [
    "#Competitive binding function\n",
    "def calc_height_of_truncated_cone(V,D,theta):\n",
    "    \"\"\"\n",
    "    Parameters\n",
    "    ----------\n",
    "    V : float\n",
    "        Total volume of liquid in a well (microlitre, uL = mm^3)\n",
    "    D : float\n",
    "        Diameter of well bottom (millimeter, mm)\n",
    "    theta : float\n",
    "        angle of well side wall form bottom normal (radian)\n",
    "        \n",
    "    Returns\n",
    "    -------\n",
    "    h : float\n",
    "        height of liquid in a well (millimeter, mm)\n",
    "        \n",
    "    Usage\n",
    "    -----\n",
    "    [h] = calc_height_of_truncated_cone(V,D,theta)\n",
    "    \"\"\"\n",
    "    \n",
    "    # P^3 + aP^2 + bP + c = 0\n",
    "    a = (3.0/2.0)*D\n",
    "    b = (3.0/4.0)*(D**2)*math.tan(theta)\n",
    "    c = (-3*V)/(pi*math.tan(theta))\n",
    "    \n",
    "       \n",
    "    # Subsitute P=u-a/3\n",
    "    # u^3 - qu - r = 0 where \n",
    "    q = (a**2)/3.0 - b\n",
    "    r = (-2.0/27.0)*a**3 +(1.0/3.0)*a*b - c\n",
    "    \n",
    "    # Discriminant\n",
    "    delta = (r**2)/4.0 -(q**3)/27.0\n",
    "    \n",
    "    # 3 roots. Physically meaningful root is u.\n",
    "    what = (2*sqrt((a**2-3*b)**3))\n",
    "    alpha = np.arccos((-2*(a**3)+9*a*b-27*c)/(2*sqrt((a**2-3*b)**3)))\n",
    "    u = (2.0/3.0)*sqrt(a**2-3*b)*cos(alpha/3.0)\n",
    "    \n",
    "    # height of liquid (mm)\n",
    "    h = u - a/3.0\n",
    "    \n",
    "    return [h]"
   ]
  },
  {
   "cell_type": "markdown",
   "metadata": {},
   "source": [
    "#### Let's calculate one example"
   ]
  },
  {
   "cell_type": "code",
   "execution_count": 27,
   "metadata": {
    "collapsed": false
   },
   "outputs": [
    {
     "data": {
      "text/plain": [
       "916.29785729702292"
      ]
     },
     "execution_count": 27,
     "metadata": {},
     "output_type": "execute_result"
    }
   ],
   "source": [
    "h_known=5\n",
    "r=5\n",
    "R=r+h_known*tan(math.radians(45))\n",
    "volume = (1.0/3.0)*pi*h*(R**2 + R*r + r**2)\n",
    "volume"
   ]
  },
  {
   "cell_type": "code",
   "execution_count": 29,
   "metadata": {
    "collapsed": false
   },
   "outputs": [
    {
     "data": {
      "text/plain": [
       "[nan]"
      ]
     },
     "execution_count": 29,
     "metadata": {},
     "output_type": "execute_result"
    }
   ],
   "source": [
    "D=10\n",
    "theta=math.radians(45)\n",
    "V=volume\n",
    "[h] = calc_height_of_truncated_cone(V,D,theta)\n",
    "[h]"
   ]
  },
  {
   "cell_type": "code",
   "execution_count": null,
   "metadata": {
    "collapsed": true
   },
   "outputs": [],
   "source": []
  }
 ],
 "metadata": {
  "kernelspec": {
   "display_name": "Python 2",
   "language": "python",
   "name": "python2"
  },
  "language_info": {
   "codemirror_mode": {
    "name": "ipython",
    "version": 2
   },
   "file_extension": ".py",
   "mimetype": "text/x-python",
   "name": "python",
   "nbconvert_exporter": "python",
   "pygments_lexer": "ipython2",
   "version": "2.7.10"
  }
 },
 "nbformat": 4,
 "nbformat_minor": 0
}
