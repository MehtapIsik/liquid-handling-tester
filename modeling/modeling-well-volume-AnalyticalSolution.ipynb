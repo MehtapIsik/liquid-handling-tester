{
 "cells": [
  {
   "cell_type": "markdown",
   "metadata": {},
   "source": [
    "##Modeling Volume of Truncated Cone Shaped Well \n",
    "\n",
    "This notebook uses analytical solution of height of a truncated cone for a given volume.\n",
    "\n",
    "\n",
    "Calculation method based on the solution of cubic equation on http://www.trans4mind.com/personal_development/mathematics/polynomials/cubicAlgebra.htm\n"
   ]
  },
  {
   "cell_type": "code",
   "execution_count": 1,
   "metadata": {
    "collapsed": false
   },
   "outputs": [
    {
     "name": "stdout",
     "output_type": "stream",
     "text": [
      "Populating the interactive namespace from numpy and matplotlib\n"
     ]
    }
   ],
   "source": [
    "import matplotlib.pyplot as plt\n",
    "import numpy as np\n",
    "import seaborn as sns\n",
    "from IPython.display import display, Math, Latex \n",
    "%pylab inline"
   ]
  },
  {
   "cell_type": "markdown",
   "metadata": {},
   "source": [
    "l: hight of truncated cone\n",
    "\n",
    "D: diameter of the small bottom surface of truncated cone well (D=2r)\n",
    "\n",
    "theta: angle between well side wall to the normal of the bottom\n",
    "\n",
    "V: volume of truncated cone"
   ]
  },
  {
   "cell_type": "markdown",
   "metadata": {},
   "source": [
    "$ V = l^3(\\frac{\\pi}{3}\\tan\\theta) + l^2(\\frac{\\pi}{2}D\\tan\\theta)+ l(\\frac{\\pi}{4}D^2) $\n",
    "\n",
    "$ 0 = l^3(\\frac{\\pi}{3}\\tan\\theta) + l^2(\\frac{\\pi}{2}D\\tan\\theta)+ l(\\frac{\\pi}{4}D^2) - V$\n",
    "\n",
    "\n",
    "To obtain normalized equation devide all parts by $(\\frac{\\pi}{3}\\tan\\theta)$ \n",
    "\n",
    "$ 0 = l^3 + l^2(\\frac{3}{2}D)+ l(\\frac{3}{4}\\frac{D^2}{\\tan\\theta}) + (\\frac{- 3V}{\\pi\\tan\\theta})$\n",
    "\n",
    "\n",
    "\n",
    "$ 0 = l^3 + al^2 + bl +c  $\n",
    "\n",
    "$ a = \\frac{3}{2}D $\n",
    "\n",
    "$ b = \\frac{3}{4}\\frac{D^2}{\\tan\\theta} $\n",
    "\n",
    "$ c = \\frac{- 3V}{\\pi\\tan\\theta}$\n",
    "\n",
    "\n",
    "\n"
   ]
  },
  {
   "cell_type": "markdown",
   "metadata": {},
   "source": [
    "Substituting $ l = t - \\frac{a}{3} $, gives us:\n",
    "\n",
    "$ t^3 + pt + q =0 $\n",
    "\n",
    "$ p=\\frac{3b-a^2}{3} $\n",
    "\n",
    "$ q = \\frac{2a^3-9ab+27c}{27}$\n",
    "\n",
    "\n",
    "Discriminant:\n",
    "$ \\Delta = \\frac{p^2}{4} - \\frac{q^3}{27}$ \n",
    "\n",
    "If $ \\Delta > 0$, there are 1 real, 2 imaginary roots. \n",
    "\n",
    "$ 0 = (u-v)^3 + 3uv(u-v) + v^3 - u^3 $, where t = u-v, p=3uv, $ q=v^3 - u^3 $\n",
    "\n",
    "$ u = \\sqrt[3]{\\frac{-q}{2}+ \\sqrt{\\Delta} } $   \n",
    "$ v = \\sqrt[3]{\\frac{q}{2}+ \\sqrt{\\Delta} } $\n",
    "\n",
    "Roots:\n",
    "\n",
    "$ l_1 = u - v - \\frac{a}{3}$\n",
    "\n",
    "$ l_2 = \\frac{-1}{2}(u-v) + (u+v)\\frac{\\sqrt{3}i}{2} + \\frac{a}{3} $ \n",
    "\n",
    "$ l_3 = \\frac{-1}{2}(u-v) - (u+v)\\frac{\\sqrt{3}i}{2} + \\frac{a}{3} $ "
   ]
  },
  {
   "cell_type": "code",
   "execution_count": 46,
   "metadata": {
    "collapsed": true
   },
   "outputs": [],
   "source": [
    "def calc_height_of_truncated_cone(V,D,theta):\n",
    "    \"\"\"\n",
    "    Parameters\n",
    "    ----------\n",
    "    V : float\n",
    "        Total volume of liquid in a well (microlitre, uL = mm^3)\n",
    "    D : float\n",
    "        Diameter of well bottom (millimeter, mm)\n",
    "    theta : float\n",
    "        angle of well side wall form bottom normal (radian)\n",
    "        \n",
    "    Returns\n",
    "    -------\n",
    "    l : float\n",
    "        height of liquid in a well (millimeter, mm)\n",
    "        \n",
    "    Usage\n",
    "    -----\n",
    "    [l] = calc_height_of_truncated_cone(V,D,theta)\n",
    "    \"\"\"\n",
    "    \n",
    "    # l^3 + al^2 + bl + c = 0\n",
    "    a = (3.0/2.0)*D\n",
    "    b = (3.0/4.0)*(D**2)*math.tan(theta)\n",
    "    c = (-3*V)/(pi*math.tan(theta))\n",
    "    \n",
    "       \n",
    "    # Subsitute l=t-a/3\n",
    "    # t^3 + pt + q = 0 where \n",
    "    p = (3*b-a**2)/3.0\n",
    "    q = (2.0*(a**3)-9*a*b+27*c)/27.0 \n",
    "    \n",
    "    # Discriminant\n",
    "    delta = (q**2)/4.0 -(p**3)/27.0\n",
    "    \n",
    "    # u and v\n",
    "    u = (-q/2.0 + sqrt(delta))**(1.0/3.0)\n",
    "    v = (q/2.0 + sqrt(delta))**(1.0/3.0)\n",
    "   \n",
    "    # height of liquid (mm) is the real root\n",
    "    l = u - v - a/3.0\n",
    "    \n",
    "    return [l]"
   ]
  },
  {
   "cell_type": "markdown",
   "metadata": {},
   "source": [
    "#### Let's calculate height of one example volume"
   ]
  },
  {
   "cell_type": "code",
   "execution_count": 47,
   "metadata": {
    "collapsed": false
   },
   "outputs": [
    {
     "data": {
      "text/plain": [
       "916.29785729702292"
      ]
     },
     "execution_count": 47,
     "metadata": {},
     "output_type": "execute_result"
    }
   ],
   "source": [
    "h_known=5\n",
    "r=5\n",
    "R=r+h_known*tan(math.radians(45))\n",
    "volume = (1.0/3.0)*pi*h_known*(R**2 + R*r + r**2)\n",
    "volume"
   ]
  },
  {
   "cell_type": "code",
   "execution_count": 48,
   "metadata": {
    "collapsed": false
   },
   "outputs": [
    {
     "data": {
      "text/plain": [
       "[4.9999999999999982]"
      ]
     },
     "execution_count": 48,
     "metadata": {},
     "output_type": "execute_result"
    }
   ],
   "source": [
    "D=10\n",
    "theta=math.radians(45)\n",
    "V=volume\n",
    "[height] = calc_height_of_truncated_cone(V,D,theta)\n",
    "[height]"
   ]
  },
  {
   "cell_type": "code",
   "execution_count": null,
   "metadata": {
    "collapsed": true
   },
   "outputs": [],
   "source": []
  }
 ],
 "metadata": {
  "kernelspec": {
   "display_name": "Python 2",
   "language": "python",
   "name": "python2"
  },
  "language_info": {
   "codemirror_mode": {
    "name": "ipython",
    "version": 2
   },
   "file_extension": ".py",
   "mimetype": "text/x-python",
   "name": "python",
   "nbconvert_exporter": "python",
   "pygments_lexer": "ipython2",
   "version": "2.7.10"
  }
 },
 "nbformat": 4,
 "nbformat_minor": 0
}
